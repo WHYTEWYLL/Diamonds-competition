{
 "cells": [
  {
   "cell_type": "markdown",
   "metadata": {},
   "source": [
    "# RandomForestRegressor"
   ]
  },
  {
   "cell_type": "code",
   "execution_count": 1,
   "metadata": {},
   "outputs": [],
   "source": [
    "import pandas as pd\n",
    "import matplotlib. pyplot as plt "
   ]
  },
  {
   "cell_type": "code",
   "execution_count": 2,
   "metadata": {},
   "outputs": [],
   "source": [
    "from sklearn.model_selection import train_test_split\n",
    "from sklearn.metrics import mean_squared_error,r2_score"
   ]
  },
  {
   "cell_type": "code",
   "execution_count": 3,
   "metadata": {},
   "outputs": [],
   "source": [
    "from sklearn.ensemble import ExtraTreesRegressor,GradientBoostingRegressor\n",
    "from sklearn.ensemble import RandomForestRegressor"
   ]
  },
  {
   "cell_type": "code",
   "execution_count": 4,
   "metadata": {},
   "outputs": [],
   "source": [
    "from sklearn.model_selection import GridSearchCV"
   ]
  },
  {
   "cell_type": "code",
   "execution_count": 5,
   "metadata": {},
   "outputs": [],
   "source": [
    "from src.to_numerrical import *"
   ]
  },
  {
   "cell_type": "code",
   "execution_count": 6,
   "metadata": {},
   "outputs": [
    {
     "data": {
      "text/html": [
       "<div>\n",
       "<style scoped>\n",
       "    .dataframe tbody tr th:only-of-type {\n",
       "        vertical-align: middle;\n",
       "    }\n",
       "\n",
       "    .dataframe tbody tr th {\n",
       "        vertical-align: top;\n",
       "    }\n",
       "\n",
       "    .dataframe thead th {\n",
       "        text-align: right;\n",
       "    }\n",
       "</style>\n",
       "<table border=\"1\" class=\"dataframe\">\n",
       "  <thead>\n",
       "    <tr style=\"text-align: right;\">\n",
       "      <th></th>\n",
       "      <th>carat</th>\n",
       "      <th>cut</th>\n",
       "      <th>color</th>\n",
       "      <th>clarity</th>\n",
       "      <th>depth</th>\n",
       "      <th>table</th>\n",
       "      <th>x</th>\n",
       "      <th>y</th>\n",
       "      <th>z</th>\n",
       "      <th>price</th>\n",
       "    </tr>\n",
       "    <tr>\n",
       "      <th>id</th>\n",
       "      <th></th>\n",
       "      <th></th>\n",
       "      <th></th>\n",
       "      <th></th>\n",
       "      <th></th>\n",
       "      <th></th>\n",
       "      <th></th>\n",
       "      <th></th>\n",
       "      <th></th>\n",
       "      <th></th>\n",
       "    </tr>\n",
       "  </thead>\n",
       "  <tbody>\n",
       "    <tr>\n",
       "      <th>0</th>\n",
       "      <td>0.30</td>\n",
       "      <td>4</td>\n",
       "      <td>2</td>\n",
       "      <td>5</td>\n",
       "      <td>62.8</td>\n",
       "      <td>56.0</td>\n",
       "      <td>4.29</td>\n",
       "      <td>4.31</td>\n",
       "      <td>2.70</td>\n",
       "      <td>605</td>\n",
       "    </tr>\n",
       "    <tr>\n",
       "      <th>1</th>\n",
       "      <td>0.34</td>\n",
       "      <td>2</td>\n",
       "      <td>1</td>\n",
       "      <td>2</td>\n",
       "      <td>62.6</td>\n",
       "      <td>55.0</td>\n",
       "      <td>4.46</td>\n",
       "      <td>4.49</td>\n",
       "      <td>2.80</td>\n",
       "      <td>565</td>\n",
       "    </tr>\n",
       "    <tr>\n",
       "      <th>2</th>\n",
       "      <td>0.40</td>\n",
       "      <td>4</td>\n",
       "      <td>0</td>\n",
       "      <td>2</td>\n",
       "      <td>60.3</td>\n",
       "      <td>62.0</td>\n",
       "      <td>4.70</td>\n",
       "      <td>4.75</td>\n",
       "      <td>2.85</td>\n",
       "      <td>720</td>\n",
       "    </tr>\n",
       "    <tr>\n",
       "      <th>3</th>\n",
       "      <td>0.40</td>\n",
       "      <td>3</td>\n",
       "      <td>4</td>\n",
       "      <td>4</td>\n",
       "      <td>61.8</td>\n",
       "      <td>59.2</td>\n",
       "      <td>4.72</td>\n",
       "      <td>4.74</td>\n",
       "      <td>2.92</td>\n",
       "      <td>793</td>\n",
       "    </tr>\n",
       "    <tr>\n",
       "      <th>4</th>\n",
       "      <td>0.90</td>\n",
       "      <td>4</td>\n",
       "      <td>0</td>\n",
       "      <td>2</td>\n",
       "      <td>61.0</td>\n",
       "      <td>63.0</td>\n",
       "      <td>6.10</td>\n",
       "      <td>6.13</td>\n",
       "      <td>3.73</td>\n",
       "      <td>4381</td>\n",
       "    </tr>\n",
       "  </tbody>\n",
       "</table>\n",
       "</div>"
      ],
      "text/plain": [
       "    carat  cut  color  clarity  depth  table     x     y     z  price\n",
       "id                                                                   \n",
       "0    0.30    4      2        5   62.8   56.0  4.29  4.31  2.70    605\n",
       "1    0.34    2      1        2   62.6   55.0  4.46  4.49  2.80    565\n",
       "2    0.40    4      0        2   60.3   62.0  4.70  4.75  2.85    720\n",
       "3    0.40    3      4        4   61.8   59.2  4.72  4.74  2.92    793\n",
       "4    0.90    4      0        2   61.0   63.0  6.10  6.13  3.73   4381"
      ]
     },
     "execution_count": 6,
     "metadata": {},
     "output_type": "execute_result"
    }
   ],
   "source": [
    "train=pd.read_csv(\"./Output/train_GF.csv\", index_col=0)\n",
    "train.head()"
   ]
  },
  {
   "cell_type": "code",
   "execution_count": 14,
   "metadata": {},
   "outputs": [
    {
     "data": {
      "text/html": [
       "<div>\n",
       "<style scoped>\n",
       "    .dataframe tbody tr th:only-of-type {\n",
       "        vertical-align: middle;\n",
       "    }\n",
       "\n",
       "    .dataframe tbody tr th {\n",
       "        vertical-align: top;\n",
       "    }\n",
       "\n",
       "    .dataframe thead th {\n",
       "        text-align: right;\n",
       "    }\n",
       "</style>\n",
       "<table border=\"1\" class=\"dataframe\">\n",
       "  <thead>\n",
       "    <tr style=\"text-align: right;\">\n",
       "      <th></th>\n",
       "      <th>carat</th>\n",
       "      <th>cut</th>\n",
       "      <th>color</th>\n",
       "      <th>clarity</th>\n",
       "      <th>depth</th>\n",
       "      <th>table</th>\n",
       "      <th>x</th>\n",
       "      <th>y</th>\n",
       "      <th>z</th>\n",
       "      <th>price</th>\n",
       "    </tr>\n",
       "  </thead>\n",
       "  <tbody>\n",
       "    <tr>\n",
       "      <th>0</th>\n",
       "      <td>-0.334386</td>\n",
       "      <td>0.446624</td>\n",
       "      <td>-0.112006</td>\n",
       "      <td>0.214227</td>\n",
       "      <td>0.234127</td>\n",
       "      <td>-0.206790</td>\n",
       "      <td>-0.408289</td>\n",
       "      <td>-0.393253</td>\n",
       "      <td>-0.375471</td>\n",
       "      <td>-0.265273</td>\n",
       "    </tr>\n",
       "    <tr>\n",
       "      <th>1</th>\n",
       "      <td>-0.321273</td>\n",
       "      <td>-0.179937</td>\n",
       "      <td>-0.312635</td>\n",
       "      <td>-0.354924</td>\n",
       "      <td>0.198182</td>\n",
       "      <td>-0.364711</td>\n",
       "      <td>-0.376218</td>\n",
       "      <td>-0.358924</td>\n",
       "      <td>-0.345477</td>\n",
       "      <td>-0.280506</td>\n",
       "    </tr>\n",
       "    <tr>\n",
       "      <th>2</th>\n",
       "      <td>-0.220757</td>\n",
       "      <td>0.369097</td>\n",
       "      <td>-0.401987</td>\n",
       "      <td>-0.280724</td>\n",
       "      <td>-0.265714</td>\n",
       "      <td>0.534524</td>\n",
       "      <td>-0.241306</td>\n",
       "      <td>-0.224517</td>\n",
       "      <td>-0.254729</td>\n",
       "      <td>-0.211640</td>\n",
       "    </tr>\n",
       "    <tr>\n",
       "      <th>3</th>\n",
       "      <td>-0.371020</td>\n",
       "      <td>0.190570</td>\n",
       "      <td>0.364472</td>\n",
       "      <td>0.041097</td>\n",
       "      <td>0.016481</td>\n",
       "      <td>0.345090</td>\n",
       "      <td>-0.397677</td>\n",
       "      <td>-0.381177</td>\n",
       "      <td>-0.384536</td>\n",
       "      <td>-0.347606</td>\n",
       "    </tr>\n",
       "    <tr>\n",
       "      <th>4</th>\n",
       "      <td>0.062168</td>\n",
       "      <td>0.401369</td>\n",
       "      <td>-0.437134</td>\n",
       "      <td>-0.305268</td>\n",
       "      <td>-0.149128</td>\n",
       "      <td>0.709108</td>\n",
       "      <td>0.094473</td>\n",
       "      <td>0.098527</td>\n",
       "      <td>0.077486</td>\n",
       "      <td>0.032440</td>\n",
       "    </tr>\n",
       "    <tr>\n",
       "      <th>...</th>\n",
       "      <td>...</td>\n",
       "      <td>...</td>\n",
       "      <td>...</td>\n",
       "      <td>...</td>\n",
       "      <td>...</td>\n",
       "      <td>...</td>\n",
       "      <td>...</td>\n",
       "      <td>...</td>\n",
       "      <td>...</td>\n",
       "      <td>...</td>\n",
       "    </tr>\n",
       "    <tr>\n",
       "      <th>40450</th>\n",
       "      <td>-0.342142</td>\n",
       "      <td>-0.183593</td>\n",
       "      <td>-0.518566</td>\n",
       "      <td>0.031544</td>\n",
       "      <td>-0.058434</td>\n",
       "      <td>-0.220455</td>\n",
       "      <td>-0.398982</td>\n",
       "      <td>-0.383891</td>\n",
       "      <td>-0.390725</td>\n",
       "      <td>-0.260935</td>\n",
       "    </tr>\n",
       "    <tr>\n",
       "      <th>40451</th>\n",
       "      <td>-0.334833</td>\n",
       "      <td>-0.172443</td>\n",
       "      <td>-0.487072</td>\n",
       "      <td>0.214513</td>\n",
       "      <td>-0.188420</td>\n",
       "      <td>-0.064612</td>\n",
       "      <td>-0.400313</td>\n",
       "      <td>-0.382710</td>\n",
       "      <td>-0.402903</td>\n",
       "      <td>-0.257235</td>\n",
       "    </tr>\n",
       "    <tr>\n",
       "      <th>40452</th>\n",
       "      <td>-0.339496</td>\n",
       "      <td>0.211689</td>\n",
       "      <td>0.116027</td>\n",
       "      <td>-0.524091</td>\n",
       "      <td>0.326933</td>\n",
       "      <td>0.119940</td>\n",
       "      <td>-0.332339</td>\n",
       "      <td>-0.316842</td>\n",
       "      <td>-0.288835</td>\n",
       "      <td>-0.369135</td>\n",
       "    </tr>\n",
       "    <tr>\n",
       "      <th>40453</th>\n",
       "      <td>-0.290736</td>\n",
       "      <td>-0.524202</td>\n",
       "      <td>0.081850</td>\n",
       "      <td>0.233162</td>\n",
       "      <td>0.424155</td>\n",
       "      <td>-0.225068</td>\n",
       "      <td>-0.323974</td>\n",
       "      <td>-0.310725</td>\n",
       "      <td>-0.272056</td>\n",
       "      <td>-0.271172</td>\n",
       "    </tr>\n",
       "    <tr>\n",
       "      <th>40454</th>\n",
       "      <td>0.473772</td>\n",
       "      <td>0.257263</td>\n",
       "      <td>0.151153</td>\n",
       "      <td>-0.089311</td>\n",
       "      <td>0.070848</td>\n",
       "      <td>0.044779</td>\n",
       "      <td>0.366092</td>\n",
       "      <td>0.367149</td>\n",
       "      <td>0.374995</td>\n",
       "      <td>0.511923</td>\n",
       "    </tr>\n",
       "  </tbody>\n",
       "</table>\n",
       "<p>40455 rows × 10 columns</p>\n",
       "</div>"
      ],
      "text/plain": [
       "          carat       cut     color   clarity     depth     table         x  \\\n",
       "0     -0.334386  0.446624 -0.112006  0.214227  0.234127 -0.206790 -0.408289   \n",
       "1     -0.321273 -0.179937 -0.312635 -0.354924  0.198182 -0.364711 -0.376218   \n",
       "2     -0.220757  0.369097 -0.401987 -0.280724 -0.265714  0.534524 -0.241306   \n",
       "3     -0.371020  0.190570  0.364472  0.041097  0.016481  0.345090 -0.397677   \n",
       "4      0.062168  0.401369 -0.437134 -0.305268 -0.149128  0.709108  0.094473   \n",
       "...         ...       ...       ...       ...       ...       ...       ...   \n",
       "40450 -0.342142 -0.183593 -0.518566  0.031544 -0.058434 -0.220455 -0.398982   \n",
       "40451 -0.334833 -0.172443 -0.487072  0.214513 -0.188420 -0.064612 -0.400313   \n",
       "40452 -0.339496  0.211689  0.116027 -0.524091  0.326933  0.119940 -0.332339   \n",
       "40453 -0.290736 -0.524202  0.081850  0.233162  0.424155 -0.225068 -0.323974   \n",
       "40454  0.473772  0.257263  0.151153 -0.089311  0.070848  0.044779  0.366092   \n",
       "\n",
       "              y         z     price  \n",
       "0     -0.393253 -0.375471 -0.265273  \n",
       "1     -0.358924 -0.345477 -0.280506  \n",
       "2     -0.224517 -0.254729 -0.211640  \n",
       "3     -0.381177 -0.384536 -0.347606  \n",
       "4      0.098527  0.077486  0.032440  \n",
       "...         ...       ...       ...  \n",
       "40450 -0.383891 -0.390725 -0.260935  \n",
       "40451 -0.382710 -0.402903 -0.257235  \n",
       "40452 -0.316842 -0.288835 -0.369135  \n",
       "40453 -0.310725 -0.272056 -0.271172  \n",
       "40454  0.367149  0.374995  0.511923  \n",
       "\n",
       "[40455 rows x 10 columns]"
      ]
     },
     "execution_count": 14,
     "metadata": {},
     "output_type": "execute_result"
    }
   ],
   "source": []
  },
  {
   "cell_type": "markdown",
   "metadata": {},
   "source": [
    "## Train_test_Split"
   ]
  },
  {
   "cell_type": "code",
   "execution_count": 24,
   "metadata": {},
   "outputs": [],
   "source": [
    "X_train, X_test, y_train, y_test  = train_test_split(train.drop(columns=\"price\"),train.price, test_size=0.2)"
   ]
  },
  {
   "cell_type": "code",
   "execution_count": 25,
   "metadata": {},
   "outputs": [
    {
     "name": "stdout",
     "output_type": "stream",
     "text": [
      "--------RandomForestRegressor--------\n",
      "RMSE->542.0489718109508\n"
     ]
    }
   ],
   "source": [
    "print(f\"--------RandomForestRegressor--------\")\n",
    "model=RandomForestRegressor()\n",
    "model=model.fit(X_train,y_train)\n",
    "y_predict=model.predict(X_test)\n",
    "print(f\"RMSE->{mean_squared_error(y_predict,y_test)**0.5}\")"
   ]
  },
  {
   "cell_type": "markdown",
   "metadata": {},
   "source": [
    "## GridSearchCV"
   ]
  },
  {
   "cell_type": "code",
   "execution_count": 28,
   "metadata": {},
   "outputs": [],
   "source": [
    "parameters = { \n",
    "    'bootstrap': [True, False],\n",
    "    'n_estimators': [100,200, 300],\n",
    "    'max_features': ['auto', 'sqrt', 'log2'],\n",
    "    'max_depth' : [20,40,60]\n",
    "}"
   ]
  },
  {
   "cell_type": "markdown",
   "metadata": {},
   "source": [
    "## RandomForestRegressor"
   ]
  },
  {
   "cell_type": "code",
   "execution_count": 51,
   "metadata": {},
   "outputs": [],
   "source": [
    "rfc = RandomForestRegressor()\n",
    "grid = GridSearchCV(estimator=rfc,param_grid=parameters,verbose=1,n_jobs=-1,cv=5)\n",
    "grid.fit(X_train,y_train)"
   ]
  },
  {
   "cell_type": "code",
   "execution_count": 22,
   "metadata": {},
   "outputs": [
    {
     "data": {
      "text/plain": [
       "{'bootstrap': True,\n",
       " 'max_depth': 20,\n",
       " 'max_features': 'auto',\n",
       " 'n_estimators': 200}"
      ]
     },
     "execution_count": 22,
     "metadata": {},
     "output_type": "execute_result"
    }
   ],
   "source": [
    "grid.best_params_"
   ]
  },
  {
   "cell_type": "code",
   "execution_count": 50,
   "metadata": {},
   "outputs": [
    {
     "name": "stdout",
     "output_type": "stream",
     "text": [
      "RMSE->551.5081797165816\n"
     ]
    }
   ],
   "source": [
    "model=RandomForestRegressor(bootstrap=True,max_depth=20,max_features=\"auto\",n_estimators=200)\n",
    "model=model.fit(X_train,y_train)\n",
    "y_predict=model.predict(X_test)\n",
    "print(f\"RMSE->{mean_squared_error(y_predict,y_test)**0.5}\")\n"
   ]
  },
  {
   "cell_type": "code",
   "execution_count": null,
   "metadata": {},
   "outputs": [],
   "source": [
    "y_test_predicted=grid.predict(X_test)"
   ]
  },
  {
   "cell_type": "code",
   "execution_count": 36,
   "metadata": {},
   "outputs": [
    {
     "data": {
      "text/plain": [
       "551.7492857436873"
      ]
     },
     "execution_count": 36,
     "metadata": {},
     "output_type": "execute_result"
    }
   ],
   "source": [
    "mean_squared_error(y_test,y_test_predicted)**0.5\n"
   ]
  },
  {
   "cell_type": "code",
   "execution_count": 37,
   "metadata": {},
   "outputs": [
    {
     "data": {
      "text/plain": [
       "0.980110227189776"
      ]
     },
     "execution_count": 37,
     "metadata": {},
     "output_type": "execute_result"
    }
   ],
   "source": [
    "r2_score(y_test,y_predict)"
   ]
  },
  {
   "cell_type": "code",
   "execution_count": 60,
   "metadata": {},
   "outputs": [
    {
     "data": {
      "text/plain": [
       "[<matplotlib.lines.Line2D at 0x7faa9e6c6970>]"
      ]
     },
     "execution_count": 60,
     "metadata": {},
     "output_type": "execute_result"
    },
    {
     "data": {
      "image/png": "[encoded data removed]",
      "text/plain": [
       "<Figure size 432x288 with 1 Axes>"
      ]
     },
     "metadata": {
      "needs_background": "light"
     },
     "output_type": "display_data"
    }
   ],
   "source": [
    "plt.scatter(y_test,y_predict)\n",
    "plt.plot([y_test.min(), y_test.max()], [y_predict.min(), y_predict.max()], 'k--', lw=4)"
   ]
  },
  {
   "cell_type": "code",
   "execution_count": null,
   "metadata": {},
   "outputs": [],
   "source": [
    "rfr_optimized=RandomForestRegressor(bootstrap=True, max_depth=20,max_features: 'auto',n_estimators: 200,)"
   ]
  },
  {
   "cell_type": "code",
   "execution_count": 38,
   "metadata": {},
   "outputs": [
    {
     "data": {
      "text/html": [
       "<div>\n",
       "<style scoped>\n",
       "    .dataframe tbody tr th:only-of-type {\n",
       "        vertical-align: middle;\n",
       "    }\n",
       "\n",
       "    .dataframe tbody tr th {\n",
       "        vertical-align: top;\n",
       "    }\n",
       "\n",
       "    .dataframe thead th {\n",
       "        text-align: right;\n",
       "    }\n",
       "</style>\n",
       "<table border=\"1\" class=\"dataframe\">\n",
       "  <thead>\n",
       "    <tr style=\"text-align: right;\">\n",
       "      <th></th>\n",
       "      <th>carat</th>\n",
       "      <th>cut</th>\n",
       "      <th>color</th>\n",
       "      <th>clarity</th>\n",
       "      <th>depth</th>\n",
       "      <th>table</th>\n",
       "      <th>x</th>\n",
       "      <th>y</th>\n",
       "      <th>z</th>\n",
       "    </tr>\n",
       "    <tr>\n",
       "      <th>id</th>\n",
       "      <th></th>\n",
       "      <th></th>\n",
       "      <th></th>\n",
       "      <th></th>\n",
       "      <th></th>\n",
       "      <th></th>\n",
       "      <th></th>\n",
       "      <th></th>\n",
       "      <th></th>\n",
       "    </tr>\n",
       "  </thead>\n",
       "  <tbody>\n",
       "    <tr>\n",
       "      <th>0</th>\n",
       "      <td>2.36</td>\n",
       "      <td>Ideal</td>\n",
       "      <td>I</td>\n",
       "      <td>SI2</td>\n",
       "      <td>60.8</td>\n",
       "      <td>54.0</td>\n",
       "      <td>8.68</td>\n",
       "      <td>8.57</td>\n",
       "      <td>5.24</td>\n",
       "    </tr>\n",
       "    <tr>\n",
       "      <th>1</th>\n",
       "      <td>2.04</td>\n",
       "      <td>Ideal</td>\n",
       "      <td>H</td>\n",
       "      <td>SI2</td>\n",
       "      <td>62.0</td>\n",
       "      <td>56.0</td>\n",
       "      <td>8.18</td>\n",
       "      <td>8.23</td>\n",
       "      <td>5.09</td>\n",
       "    </tr>\n",
       "    <tr>\n",
       "      <th>2</th>\n",
       "      <td>0.51</td>\n",
       "      <td>Ideal</td>\n",
       "      <td>I</td>\n",
       "      <td>SI1</td>\n",
       "      <td>61.7</td>\n",
       "      <td>54.0</td>\n",
       "      <td>5.18</td>\n",
       "      <td>5.19</td>\n",
       "      <td>3.20</td>\n",
       "    </tr>\n",
       "    <tr>\n",
       "      <th>3</th>\n",
       "      <td>0.30</td>\n",
       "      <td>Ideal</td>\n",
       "      <td>I</td>\n",
       "      <td>SI1</td>\n",
       "      <td>61.3</td>\n",
       "      <td>56.0</td>\n",
       "      <td>4.32</td>\n",
       "      <td>4.33</td>\n",
       "      <td>2.65</td>\n",
       "    </tr>\n",
       "    <tr>\n",
       "      <th>4</th>\n",
       "      <td>0.96</td>\n",
       "      <td>Fair</td>\n",
       "      <td>H</td>\n",
       "      <td>VS2</td>\n",
       "      <td>68.8</td>\n",
       "      <td>56.0</td>\n",
       "      <td>6.11</td>\n",
       "      <td>5.98</td>\n",
       "      <td>4.16</td>\n",
       "    </tr>\n",
       "  </tbody>\n",
       "</table>\n",
       "</div>"
      ],
      "text/plain": [
       "    carat    cut color clarity  depth  table     x     y     z\n",
       "id                                                            \n",
       "0    2.36  Ideal     I     SI2   60.8   54.0  8.68  8.57  5.24\n",
       "1    2.04  Ideal     H     SI2   62.0   56.0  8.18  8.23  5.09\n",
       "2    0.51  Ideal     I     SI1   61.7   54.0  5.18  5.19  3.20\n",
       "3    0.30  Ideal     I     SI1   61.3   56.0  4.32  4.33  2.65\n",
       "4    0.96   Fair     H     VS2   68.8   56.0  6.11  5.98  4.16"
      ]
     },
     "execution_count": 38,
     "metadata": {},
     "output_type": "execute_result"
    }
   ],
   "source": [
    "predict=pd.read_csv(\"./Input/predict.csv\", index_col=0)\n",
    "predict.head()"
   ]
  },
  {
   "cell_type": "code",
   "execution_count": 39,
   "metadata": {},
   "outputs": [
    {
     "data": {
      "text/html": [
       "<div>\n",
       "<style scoped>\n",
       "    .dataframe tbody tr th:only-of-type {\n",
       "        vertical-align: middle;\n",
       "    }\n",
       "\n",
       "    .dataframe tbody tr th {\n",
       "        vertical-align: top;\n",
       "    }\n",
       "\n",
       "    .dataframe thead th {\n",
       "        text-align: right;\n",
       "    }\n",
       "</style>\n",
       "<table border=\"1\" class=\"dataframe\">\n",
       "  <thead>\n",
       "    <tr style=\"text-align: right;\">\n",
       "      <th></th>\n",
       "      <th>carat</th>\n",
       "      <th>cut</th>\n",
       "      <th>color</th>\n",
       "      <th>clarity</th>\n",
       "      <th>depth</th>\n",
       "      <th>table</th>\n",
       "      <th>x</th>\n",
       "      <th>y</th>\n",
       "      <th>z</th>\n",
       "    </tr>\n",
       "    <tr>\n",
       "      <th>id</th>\n",
       "      <th></th>\n",
       "      <th></th>\n",
       "      <th></th>\n",
       "      <th></th>\n",
       "      <th></th>\n",
       "      <th></th>\n",
       "      <th></th>\n",
       "      <th></th>\n",
       "      <th></th>\n",
       "    </tr>\n",
       "  </thead>\n",
       "  <tbody>\n",
       "    <tr>\n",
       "      <th>0</th>\n",
       "      <td>2.36</td>\n",
       "      <td>2</td>\n",
       "      <td>5</td>\n",
       "      <td>3</td>\n",
       "      <td>60.8</td>\n",
       "      <td>54.0</td>\n",
       "      <td>8.68</td>\n",
       "      <td>8.57</td>\n",
       "      <td>5.24</td>\n",
       "    </tr>\n",
       "    <tr>\n",
       "      <th>1</th>\n",
       "      <td>2.04</td>\n",
       "      <td>2</td>\n",
       "      <td>4</td>\n",
       "      <td>3</td>\n",
       "      <td>62.0</td>\n",
       "      <td>56.0</td>\n",
       "      <td>8.18</td>\n",
       "      <td>8.23</td>\n",
       "      <td>5.09</td>\n",
       "    </tr>\n",
       "    <tr>\n",
       "      <th>2</th>\n",
       "      <td>0.51</td>\n",
       "      <td>2</td>\n",
       "      <td>5</td>\n",
       "      <td>2</td>\n",
       "      <td>61.7</td>\n",
       "      <td>54.0</td>\n",
       "      <td>5.18</td>\n",
       "      <td>5.19</td>\n",
       "      <td>3.20</td>\n",
       "    </tr>\n",
       "    <tr>\n",
       "      <th>3</th>\n",
       "      <td>0.30</td>\n",
       "      <td>2</td>\n",
       "      <td>5</td>\n",
       "      <td>2</td>\n",
       "      <td>61.3</td>\n",
       "      <td>56.0</td>\n",
       "      <td>4.32</td>\n",
       "      <td>4.33</td>\n",
       "      <td>2.65</td>\n",
       "    </tr>\n",
       "    <tr>\n",
       "      <th>4</th>\n",
       "      <td>0.96</td>\n",
       "      <td>0</td>\n",
       "      <td>4</td>\n",
       "      <td>5</td>\n",
       "      <td>68.8</td>\n",
       "      <td>56.0</td>\n",
       "      <td>6.11</td>\n",
       "      <td>5.98</td>\n",
       "      <td>4.16</td>\n",
       "    </tr>\n",
       "  </tbody>\n",
       "</table>\n",
       "</div>"
      ],
      "text/plain": [
       "    carat  cut  color  clarity  depth  table     x     y     z\n",
       "id                                                            \n",
       "0    2.36    2      5        3   60.8   54.0  8.68  8.57  5.24\n",
       "1    2.04    2      4        3   62.0   56.0  8.18  8.23  5.09\n",
       "2    0.51    2      5        2   61.7   54.0  5.18  5.19  3.20\n",
       "3    0.30    2      5        2   61.3   56.0  4.32  4.33  2.65\n",
       "4    0.96    0      4        5   68.8   56.0  6.11  5.98  4.16"
      ]
     },
     "execution_count": 39,
     "metadata": {},
     "output_type": "execute_result"
    }
   ],
   "source": [
    "predict=make_it_numerical(predict)\n",
    "predict.head()"
   ]
  },
  {
   "cell_type": "code",
   "execution_count": 54,
   "metadata": {},
   "outputs": [
    {
     "data": {
      "text/plain": [
       "RandomForestRegressor(max_depth=20, n_estimators=200)"
      ]
     },
     "execution_count": 54,
     "metadata": {},
     "output_type": "execute_result"
    }
   ],
   "source": [
    "rfr_optimized.fit(X_train,y_train)"
   ]
  },
  {
   "cell_type": "code",
   "execution_count": 55,
   "metadata": {},
   "outputs": [],
   "source": [
    "y_predicted_test_data=rfr_optimized.predict(predict)"
   ]
  },
  {
   "cell_type": "code",
   "execution_count": 40,
   "metadata": {},
   "outputs": [],
   "source": [
    "y_predicted_test_data=model.predict(predict)"
   ]
  },
  {
   "cell_type": "code",
   "execution_count": 41,
   "metadata": {},
   "outputs": [],
   "source": [
    "pd.DataFrame(y_predicted_test_data,columns=[\"price\"]).to_csv(\"./Output/RFR_optimized.csv\",index_label=\"id\")"
   ]
  },
  {
   "cell_type": "markdown",
   "metadata": {},
   "source": [
    "## ExtraTreesRegressor"
   ]
  },
  {
   "cell_type": "code",
   "execution_count": 42,
   "metadata": {},
   "outputs": [
    {
     "name": "stdout",
     "output_type": "stream",
     "text": [
      "--------ExtraTreesRegressor--------\n",
      "RMSE->538.8468613308571\n"
     ]
    },
    {
     "data": {
      "text/plain": [
       "0.9813100493117224"
      ]
     },
     "execution_count": 42,
     "metadata": {},
     "output_type": "execute_result"
    }
   ],
   "source": [
    "print(f\"--------ExtraTreesRegressor--------\")\n",
    "etr=ExtraTreesRegressor()\n",
    "etr=etr.fit(X_train,y_train)\n",
    "y_predict=etr.predict(X_test)\n",
    "print(f\"RMSE->{mean_squared_error(y_predict,y_test)**0.5}\")\n",
    "r2_score(y_test,y_predict)"
   ]
  },
  {
   "cell_type": "code",
   "execution_count": 79,
   "metadata": {},
   "outputs": [
    {
     "data": {
      "text/plain": [
       "[<matplotlib.lines.Line2D at 0x7faa70d79eb0>]"
      ]
     },
     "execution_count": 79,
     "metadata": {},
     "output_type": "execute_result"
    },
    {
     "data": {
      "image/png": "[encoded data removed]",
      "text/plain": [
       "<Figure size 432x288 with 1 Axes>"
      ]
     },
     "metadata": {
      "needs_background": "light"
     },
     "output_type": "display_data"
    }
   ],
   "source": [
    "plt.scatter(y_test,y_predict)\n",
    "plt.plot([y_test.min(), y_test.max()], [y_predict.min(), y_predict.max()], 'k--', lw=4)"
   ]
  },
  {
   "cell_type": "code",
   "execution_count": 67,
   "metadata": {},
   "outputs": [
    {
     "name": "stdout",
     "output_type": "stream",
     "text": [
      "Fitting 5 folds for each of 27 candidates, totalling 135 fits\n"
     ]
    },
    {
     "name": "stderr",
     "output_type": "stream",
     "text": [
      "[Parallel(n_jobs=-1)]: Using backend LokyBackend with 4 concurrent workers.\n",
      "[Parallel(n_jobs=-1)]: Done  42 tasks      | elapsed:  1.7min\n",
      "[Parallel(n_jobs=-1)]: Done 135 out of 135 | elapsed:  7.8min finished\n"
     ]
    },
    {
     "data": {
      "text/plain": [
       "GridSearchCV(cv=5,\n",
       "             estimator=ExtraTreesRegressor(max_depth=50, min_samples_split=10,\n",
       "                                           n_estimators=200, random_state=300),\n",
       "             n_jobs=-1,\n",
       "             param_grid={'max_depth': [10, 25, 50],\n",
       "                         'min_samples_split': [5, 10, 20],\n",
       "                         'n_estimators': [100, 150, 250]},\n",
       "             scoring='neg_root_mean_squared_error', verbose=1)"
      ]
     },
     "execution_count": 67,
     "metadata": {},
     "output_type": "execute_result"
    }
   ],
   "source": [
    "params={\"n_estimators\":[100,150,250],\n",
    "        \"max_depth\":[10,25,50],\n",
    "        \"min_samples_split\":[5,10,20]\n",
    "       }\n",
    "GSCV=GridSearchCV(estimator=ExtraTreesRegressor(n_estimators=200,max_depth=50,min_samples_split=10,min_samples_leaf=1,random_state=300),\n",
    "             scoring=\"neg_root_mean_squared_error\",verbose=1,n_jobs=-1,param_grid=params,cv=5)\n",
    "\n",
    "GSCV.fit(X_train,y_train)"
   ]
  },
  {
   "cell_type": "code",
   "execution_count": 69,
   "metadata": {},
   "outputs": [
    {
     "data": {
      "text/plain": [
       "{'max_depth': 25, 'min_samples_split': 10, 'n_estimators': 100}"
      ]
     },
     "execution_count": 69,
     "metadata": {},
     "output_type": "execute_result"
    }
   ],
   "source": [
    "GSCV.best_params_"
   ]
  },
  {
   "cell_type": "code",
   "execution_count": 68,
   "metadata": {},
   "outputs": [
    {
     "name": "stdout",
     "output_type": "stream",
     "text": [
      "R2=0.9810057181480413, RMSE=553.9078810424622\n"
     ]
    }
   ],
   "source": [
    "y_test_predict_opt=GSCV.predict(X_test)\n",
    "\n",
    "RMSE=mean_squared_error(y_test,y_test_predict_opt)**0.5\n",
    "\n",
    "R2=r2_score(y_test,y_test_predict_opt)\n",
    "\n",
    "print(f\"R2={R2}, RMSE={RMSE}\")"
   ]
  },
  {
   "cell_type": "code",
   "execution_count": 45,
   "metadata": {},
   "outputs": [],
   "source": [
    "etr=ExtraTreesRegressor()\n",
    "etr=etr.fit(X_train,y_train)\n",
    "etr_predict=etr.predict(predict)\n"
   ]
  },
  {
   "cell_type": "code",
   "execution_count": null,
   "metadata": {},
   "outputs": [],
   "source": []
  },
  {
   "cell_type": "code",
   "execution_count": 47,
   "metadata": {},
   "outputs": [],
   "source": [
    "pd.DataFrame(y_predicted_test_data,columns=[\"price\"]).to_csv(\"./Output/etr_optimized.csv\",index_label=\"id\")"
   ]
  },
  {
   "cell_type": "markdown",
   "metadata": {},
   "source": [
    "# GradientBoosting"
   ]
  },
  {
   "cell_type": "code",
   "execution_count": 48,
   "metadata": {},
   "outputs": [
    {
     "name": "stdout",
     "output_type": "stream",
     "text": [
      "--------GradientBoostingRegressor--------\n",
      "RMSE->650.7718610238163\n"
     ]
    }
   ],
   "source": [
    "print(f\"--------GradientBoostingRegressor--------\")\n",
    "GBR=GradientBoostingRegressor()\n",
    "GBR=GBR.fit(X_train,y_train)\n",
    "y_predict=GBR.predict(X_test)\n",
    "print(f\"RMSE->{mean_squared_error(y_predict,y_test)**0.5}\")"
   ]
  },
  {
   "cell_type": "code",
   "execution_count": 9,
   "metadata": {},
   "outputs": [
    {
     "data": {
      "text/plain": [
       "[<matplotlib.lines.Line2D at 0x7f9cfb112df0>]"
      ]
     },
     "execution_count": 9,
     "metadata": {},
     "output_type": "execute_result"
    },
    {
     "data": {
      "image/png": "[encoded data removed]",
      "text/plain": [
       "<Figure size 432x288 with 1 Axes>"
      ]
     },
     "metadata": {
      "needs_background": "light"
     },
     "output_type": "display_data"
    }
   ],
   "source": [
    "plt.scatter(y_test,y_predict)\n",
    "plt.plot([y_test.min(), y_test.max()], [y_predict.min(), y_predict.max()], 'k--', lw=4)"
   ]
  },
  {
   "cell_type": "code",
   "execution_count": 49,
   "metadata": {},
   "outputs": [
    {
     "data": {
      "text/plain": [
       "array([15478.81899716, 15137.91095518,  1392.67577609, ...,\n",
       "        2740.88098172,  1190.84954856,  2209.05684188])"
      ]
     },
     "execution_count": 49,
     "metadata": {},
     "output_type": "execute_result"
    }
   ],
   "source": [
    "GBR=GradientBoostingRegressor()\n",
    "GBR=GBR.fit(X_train,y_train)\n",
    "y_predict=GBR.predict(predict)\n",
    "y_predict"
   ]
  },
  {
   "cell_type": "code",
   "execution_count": 77,
   "metadata": {},
   "outputs": [],
   "source": [
    "pd.DataFrame(y_predicted_test_data,columns=[\"price\"]).to_csv(\"./Output/GBR_optimized.csv\",index_label=\"id\")"
   ]
  },
  {
   "cell_type": "code",
   "execution_count": null,
   "metadata": {},
   "outputs": [],
   "source": []
  }
 ],
 "metadata": {
  "kernelspec": {
   "display_name": "Python 3",
   "language": "python",
   "name": "python3"
  },
  "language_info": {
   "codemirror_mode": {
    "name": "ipython",
    "version": 3
   },
   "file_extension": ".py",
   "mimetype": "text/x-python",
   "name": "python",
   "nbconvert_exporter": "python",
   "pygments_lexer": "ipython3",
   "version": "3.8.2"
  }
 },
 "nbformat": 4,
 "nbformat_minor": 4
}
